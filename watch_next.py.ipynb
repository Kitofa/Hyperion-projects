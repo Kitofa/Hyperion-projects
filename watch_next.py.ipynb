{
 "cells": [
  {
   "cell_type": "code",
   "execution_count": 119,
   "id": "536429d4",
   "metadata": {},
   "outputs": [],
   "source": [
    "import spacy\n",
    "import pandas as pd\n",
    "import numpy as np"
   ]
  },
  {
   "cell_type": "code",
   "execution_count": 120,
   "id": "ec4d85ab",
   "metadata": {},
   "outputs": [
    {
     "data": {
      "text/html": [
       "<div>\n",
       "<style scoped>\n",
       "    .dataframe tbody tr th:only-of-type {\n",
       "        vertical-align: middle;\n",
       "    }\n",
       "\n",
       "    .dataframe tbody tr th {\n",
       "        vertical-align: top;\n",
       "    }\n",
       "\n",
       "    .dataframe thead th {\n",
       "        text-align: right;\n",
       "    }\n",
       "</style>\n",
       "<table border=\"1\" class=\"dataframe\">\n",
       "  <thead>\n",
       "    <tr style=\"text-align: right;\">\n",
       "      <th></th>\n",
       "      <th>0</th>\n",
       "      <th>1</th>\n",
       "    </tr>\n",
       "  </thead>\n",
       "  <tbody>\n",
       "    <tr>\n",
       "      <th>0</th>\n",
       "      <td>Movie A</td>\n",
       "      <td>When Hiccup discovers Toothless isn't the only...</td>\n",
       "    </tr>\n",
       "    <tr>\n",
       "      <th>1</th>\n",
       "      <td>Movie B</td>\n",
       "      <td>After the death of Superman, several new peopl...</td>\n",
       "    </tr>\n",
       "    <tr>\n",
       "      <th>2</th>\n",
       "      <td>Movie C</td>\n",
       "      <td>A darkness swirls at the center of a world-ren...</td>\n",
       "    </tr>\n",
       "    <tr>\n",
       "      <th>3</th>\n",
       "      <td>Movie D</td>\n",
       "      <td>A humorous take on Sir Arthur Conan Doyle's cl...</td>\n",
       "    </tr>\n",
       "    <tr>\n",
       "      <th>4</th>\n",
       "      <td>Movie E</td>\n",
       "      <td>A 16-year-old girl and her extended family are...</td>\n",
       "    </tr>\n",
       "  </tbody>\n",
       "</table>\n",
       "</div>"
      ],
      "text/plain": [
       "          0                                                  1\n",
       "0  Movie A   When Hiccup discovers Toothless isn't the only...\n",
       "1  Movie B   After the death of Superman, several new peopl...\n",
       "2  Movie C   A darkness swirls at the center of a world-ren...\n",
       "3  Movie D   A humorous take on Sir Arthur Conan Doyle's cl...\n",
       "4  Movie E   A 16-year-old girl and her extended family are..."
      ]
     },
     "execution_count": 120,
     "metadata": {},
     "output_type": "execute_result"
    }
   ],
   "source": [
    "movie_list = pd.read_csv(r\"movies.txt\", sep =\":\", header = None)\n",
    "movie_list.head()"
   ]
  },
  {
   "cell_type": "code",
   "execution_count": 121,
   "id": "59a31eb2",
   "metadata": {
    "scrolled": true
   },
   "outputs": [
    {
     "data": {
      "text/html": [
       "<div>\n",
       "<style scoped>\n",
       "    .dataframe tbody tr th:only-of-type {\n",
       "        vertical-align: middle;\n",
       "    }\n",
       "\n",
       "    .dataframe tbody tr th {\n",
       "        vertical-align: top;\n",
       "    }\n",
       "\n",
       "    .dataframe thead th {\n",
       "        text-align: right;\n",
       "    }\n",
       "</style>\n",
       "<table border=\"1\" class=\"dataframe\">\n",
       "  <thead>\n",
       "    <tr style=\"text-align: right;\">\n",
       "      <th></th>\n",
       "      <th>Movie name</th>\n",
       "      <th>Movie description</th>\n",
       "    </tr>\n",
       "  </thead>\n",
       "  <tbody>\n",
       "    <tr>\n",
       "      <th>0</th>\n",
       "      <td>Movie A</td>\n",
       "      <td>When Hiccup discovers Toothless isn't the only...</td>\n",
       "    </tr>\n",
       "    <tr>\n",
       "      <th>1</th>\n",
       "      <td>Movie B</td>\n",
       "      <td>After the death of Superman, several new peopl...</td>\n",
       "    </tr>\n",
       "    <tr>\n",
       "      <th>2</th>\n",
       "      <td>Movie C</td>\n",
       "      <td>A darkness swirls at the center of a world-ren...</td>\n",
       "    </tr>\n",
       "    <tr>\n",
       "      <th>3</th>\n",
       "      <td>Movie D</td>\n",
       "      <td>A humorous take on Sir Arthur Conan Doyle's cl...</td>\n",
       "    </tr>\n",
       "    <tr>\n",
       "      <th>4</th>\n",
       "      <td>Movie E</td>\n",
       "      <td>A 16-year-old girl and her extended family are...</td>\n",
       "    </tr>\n",
       "  </tbody>\n",
       "</table>\n",
       "</div>"
      ],
      "text/plain": [
       "  Movie name                                  Movie description\n",
       "0   Movie A   When Hiccup discovers Toothless isn't the only...\n",
       "1   Movie B   After the death of Superman, several new peopl...\n",
       "2   Movie C   A darkness swirls at the center of a world-ren...\n",
       "3   Movie D   A humorous take on Sir Arthur Conan Doyle's cl...\n",
       "4   Movie E   A 16-year-old girl and her extended family are..."
      ]
     },
     "execution_count": 121,
     "metadata": {},
     "output_type": "execute_result"
    }
   ],
   "source": [
    "movie_list.columns = [\"Movie name\",\"Movie description\"]\n",
    "movie_list.head()"
   ]
  },
  {
   "cell_type": "code",
   "execution_count": 122,
   "id": "2acbc96e",
   "metadata": {},
   "outputs": [],
   "source": [
    "# prepare to make a dataframe of given comparator movie\n",
    "comparator = ([[\"Planet Hulk\", '''Will he save their world or destroy it? When the Hulk becomes too dangerous for the Earth, the illuminati trick Hulk into a shuttle\n",
    "and launch him into space to a planet where the Hulk can live\n",
    "in peace.  Unfortunately, Hulk lands on the planet Sakaar where he\n",
    "is sold into slavery and trained as a gladiator''']])"
   ]
  },
  {
   "cell_type": "code",
   "execution_count": 123,
   "id": "6c833945",
   "metadata": {},
   "outputs": [
    {
     "data": {
      "text/html": [
       "<div>\n",
       "<style scoped>\n",
       "    .dataframe tbody tr th:only-of-type {\n",
       "        vertical-align: middle;\n",
       "    }\n",
       "\n",
       "    .dataframe tbody tr th {\n",
       "        vertical-align: top;\n",
       "    }\n",
       "\n",
       "    .dataframe thead th {\n",
       "        text-align: right;\n",
       "    }\n",
       "</style>\n",
       "<table border=\"1\" class=\"dataframe\">\n",
       "  <thead>\n",
       "    <tr style=\"text-align: right;\">\n",
       "      <th></th>\n",
       "      <th>0</th>\n",
       "      <th>1</th>\n",
       "    </tr>\n",
       "  </thead>\n",
       "  <tbody>\n",
       "    <tr>\n",
       "      <th>0</th>\n",
       "      <td>Planet Hulk</td>\n",
       "      <td>Will he save their world or destroy it? When t...</td>\n",
       "    </tr>\n",
       "  </tbody>\n",
       "</table>\n",
       "</div>"
      ],
      "text/plain": [
       "             0                                                  1\n",
       "0  Planet Hulk  Will he save their world or destroy it? When t..."
      ]
     },
     "execution_count": 123,
     "metadata": {},
     "output_type": "execute_result"
    }
   ],
   "source": [
    "#create dataframe of comparator movie\n",
    "df1 = pd.DataFrame(comparator)\n",
    "df1.head()"
   ]
  },
  {
   "cell_type": "code",
   "execution_count": 124,
   "id": "5c746180",
   "metadata": {},
   "outputs": [
    {
     "data": {
      "text/html": [
       "<div>\n",
       "<style scoped>\n",
       "    .dataframe tbody tr th:only-of-type {\n",
       "        vertical-align: middle;\n",
       "    }\n",
       "\n",
       "    .dataframe tbody tr th {\n",
       "        vertical-align: top;\n",
       "    }\n",
       "\n",
       "    .dataframe thead th {\n",
       "        text-align: right;\n",
       "    }\n",
       "</style>\n",
       "<table border=\"1\" class=\"dataframe\">\n",
       "  <thead>\n",
       "    <tr style=\"text-align: right;\">\n",
       "      <th></th>\n",
       "      <th>Movie name</th>\n",
       "      <th>Movie description</th>\n",
       "    </tr>\n",
       "  </thead>\n",
       "  <tbody>\n",
       "    <tr>\n",
       "      <th>0</th>\n",
       "      <td>Planet Hulk</td>\n",
       "      <td>Will he save their world or destroy it? When t...</td>\n",
       "    </tr>\n",
       "  </tbody>\n",
       "</table>\n",
       "</div>"
      ],
      "text/plain": [
       "    Movie name                                  Movie description\n",
       "0  Planet Hulk  Will he save their world or destroy it? When t..."
      ]
     },
     "execution_count": 124,
     "metadata": {},
     "output_type": "execute_result"
    }
   ],
   "source": [
    "# display new dataframe with corresponding column names\n",
    "df1.columns = [\"Movie name\", \"Movie description\"]\n",
    "df1.head()"
   ]
  },
  {
   "cell_type": "code",
   "execution_count": 125,
   "id": "0fb8a5ed",
   "metadata": {},
   "outputs": [
    {
     "name": "stderr",
     "output_type": "stream",
     "text": [
      "C:\\Users\\mwana\\AppData\\Local\\Temp\\ipykernel_4444\\111018916.py:2: FutureWarning: The frame.append method is deprecated and will be removed from pandas in a future version. Use pandas.concat instead.\n",
      "  available_movies_df = df1.append(movie_list, ignore_index = True )\n"
     ]
    },
    {
     "data": {
      "text/html": [
       "<div>\n",
       "<style scoped>\n",
       "    .dataframe tbody tr th:only-of-type {\n",
       "        vertical-align: middle;\n",
       "    }\n",
       "\n",
       "    .dataframe tbody tr th {\n",
       "        vertical-align: top;\n",
       "    }\n",
       "\n",
       "    .dataframe thead th {\n",
       "        text-align: right;\n",
       "    }\n",
       "</style>\n",
       "<table border=\"1\" class=\"dataframe\">\n",
       "  <thead>\n",
       "    <tr style=\"text-align: right;\">\n",
       "      <th></th>\n",
       "      <th>Movie name</th>\n",
       "      <th>Movie description</th>\n",
       "    </tr>\n",
       "  </thead>\n",
       "  <tbody>\n",
       "    <tr>\n",
       "      <th>0</th>\n",
       "      <td>Planet Hulk</td>\n",
       "      <td>Will he save their world or destroy it? When t...</td>\n",
       "    </tr>\n",
       "    <tr>\n",
       "      <th>1</th>\n",
       "      <td>Movie A</td>\n",
       "      <td>When Hiccup discovers Toothless isn't the only...</td>\n",
       "    </tr>\n",
       "    <tr>\n",
       "      <th>2</th>\n",
       "      <td>Movie B</td>\n",
       "      <td>After the death of Superman, several new peopl...</td>\n",
       "    </tr>\n",
       "    <tr>\n",
       "      <th>3</th>\n",
       "      <td>Movie C</td>\n",
       "      <td>A darkness swirls at the center of a world-ren...</td>\n",
       "    </tr>\n",
       "    <tr>\n",
       "      <th>4</th>\n",
       "      <td>Movie D</td>\n",
       "      <td>A humorous take on Sir Arthur Conan Doyle's cl...</td>\n",
       "    </tr>\n",
       "    <tr>\n",
       "      <th>5</th>\n",
       "      <td>Movie E</td>\n",
       "      <td>A 16-year-old girl and her extended family are...</td>\n",
       "    </tr>\n",
       "    <tr>\n",
       "      <th>6</th>\n",
       "      <td>Movie F</td>\n",
       "      <td>In the last moments of World War II, a young G...</td>\n",
       "    </tr>\n",
       "    <tr>\n",
       "      <th>7</th>\n",
       "      <td>Movie G</td>\n",
       "      <td>The world at an end, a dying mother sends her ...</td>\n",
       "    </tr>\n",
       "    <tr>\n",
       "      <th>8</th>\n",
       "      <td>Movie H</td>\n",
       "      <td>A musician helps a young singer and actress fi...</td>\n",
       "    </tr>\n",
       "    <tr>\n",
       "      <th>9</th>\n",
       "      <td>Movie I</td>\n",
       "      <td>Corporate analyst and single mom, Jen, tackles...</td>\n",
       "    </tr>\n",
       "    <tr>\n",
       "      <th>10</th>\n",
       "      <td>Movie J</td>\n",
       "      <td>Adapted from the bestselling novel by Madelein...</td>\n",
       "    </tr>\n",
       "  </tbody>\n",
       "</table>\n",
       "</div>"
      ],
      "text/plain": [
       "     Movie name                                  Movie description\n",
       "0   Planet Hulk  Will he save their world or destroy it? When t...\n",
       "1      Movie A   When Hiccup discovers Toothless isn't the only...\n",
       "2      Movie B   After the death of Superman, several new peopl...\n",
       "3      Movie C   A darkness swirls at the center of a world-ren...\n",
       "4      Movie D   A humorous take on Sir Arthur Conan Doyle's cl...\n",
       "5      Movie E   A 16-year-old girl and her extended family are...\n",
       "6      Movie F   In the last moments of World War II, a young G...\n",
       "7      Movie G   The world at an end, a dying mother sends her ...\n",
       "8      Movie H   A musician helps a young singer and actress fi...\n",
       "9      Movie I   Corporate analyst and single mom, Jen, tackles...\n",
       "10     Movie J   Adapted from the bestselling novel by Madelein..."
      ]
     },
     "execution_count": 125,
     "metadata": {},
     "output_type": "execute_result"
    }
   ],
   "source": [
    "#join the 2 dataframes\n",
    "available_movies_df = df1.append(movie_list, ignore_index = True )\n",
    "available_movies_df"
   ]
  },
  {
   "cell_type": "code",
   "execution_count": 126,
   "id": "7d780c2c",
   "metadata": {},
   "outputs": [],
   "source": [
    "from sklearn.feature_extraction.text import TfidfVectorizer\n"
   ]
  },
  {
   "cell_type": "code",
   "execution_count": 127,
   "id": "b58b234f",
   "metadata": {},
   "outputs": [],
   "source": [
    "# pair similarity- represent each movie as a vector pair\n",
    "\n",
    "vectorizer = TfidfVectorizer(min_df = 3,\n",
    "                      max_features = None,\n",
    "                      \n",
    "                      # remove punctuation marks \n",
    "                      strip_accents = \"unicode\",\n",
    "                      analyzer = \"word\",\n",
    "                      token_pattern = r'\\w{1,}',\n",
    "                      # combine 1-3 different words to form meanings\n",
    "                      ngram_range = (1,3),\n",
    "                      # remove unnecessary characters i.e. the\n",
    "                      stop_words = \"english\"\n",
    "                            )"
   ]
  },
  {
   "cell_type": "code",
   "execution_count": 128,
   "id": "c4284750",
   "metadata": {},
   "outputs": [
    {
     "data": {
      "text/plain": [
       "<11x2 sparse matrix of type '<class 'numpy.float64'>'\n",
       "\twith 9 stored elements in Compressed Sparse Row format>"
      ]
     },
     "execution_count": 128,
     "metadata": {},
     "output_type": "execute_result"
    }
   ],
   "source": [
    "vectorizer_matrix = vectorizer.fit_transform(available_movies_df[\"Movie description\"])\n",
    "vectorizer_matrix"
   ]
  },
  {
   "cell_type": "code",
   "execution_count": 129,
   "id": "96587d11",
   "metadata": {},
   "outputs": [],
   "source": [
    "# prepare to find similarity value\n",
    "from sklearn.metrics.pairwise import sigmoid_kernel\n",
    "\n",
    "# computing sigmoid kernel\n",
    "sig = sigmoid_kernel(vectorizer_matrix, vectorizer_matrix)"
   ]
  },
  {
   "cell_type": "code",
   "execution_count": 130,
   "id": "ce664101",
   "metadata": {},
   "outputs": [
    {
     "data": {
      "text/plain": [
       "array([0.90514825, 0.90514825, 0.76159416, 0.87047897, 0.76159416,\n",
       "       0.76159416, 0.87047897, 0.87047897, 0.76159416, 0.76159416,\n",
       "       0.76159416])"
      ]
     },
     "execution_count": 130,
     "metadata": {},
     "output_type": "execute_result"
    }
   ],
   "source": [
    "sig[0]"
   ]
  },
  {
   "cell_type": "code",
   "execution_count": 131,
   "id": "4dba4f4e",
   "metadata": {},
   "outputs": [
    {
     "data": {
      "text/plain": [
       "Movie name\n",
       "Planet Hulk     0\n",
       "Movie A         1\n",
       "Movie B         2\n",
       "Movie C         3\n",
       "Movie D         4\n",
       "Movie E         5\n",
       "Movie F         6\n",
       "Movie G         7\n",
       "Movie H         8\n",
       "Movie I         9\n",
       "Movie J        10\n",
       "dtype: int64"
      ]
     },
     "execution_count": 131,
     "metadata": {},
     "output_type": "execute_result"
    }
   ],
   "source": [
    "# reverse mapping of indices and movie names\n",
    "indices =pd.Series(available_movies.index, index = available_movies_df[\"Movie name\"])\n",
    "indices"
   ]
  },
  {
   "cell_type": "code",
   "execution_count": 132,
   "id": "c823618c",
   "metadata": {},
   "outputs": [],
   "source": [
    "def predicted_movie (Movie_name, sig = sig):\n",
    "    # get index of original movie name\n",
    "    idx = indices[Movie_name]\n",
    "    # obtain pairwise similarity scores\n",
    "    sig_scores = list(enumerate(sig[idx]))\n",
    "    # sort movies\n",
    "    sig_scores = sorted(sig_scores, key = lambda x: x[1], reverse = True)\n",
    "    # scores of 10 of the most similar movies\n",
    "    sig_scores = sig_scores[1:11]\n",
    "    # movie indices\n",
    "    movie_indices = [i [0] for i in sig_scores]\n",
    "    # top 10 most similar movies\n",
    "    return available_movies_df[\"Movie name\"].iloc[movie_indices]"
   ]
  },
  {
   "cell_type": "code",
   "execution_count": 133,
   "id": "e706b2dc",
   "metadata": {},
   "outputs": [
    {
     "data": {
      "text/plain": [
       "1     Movie A \n",
       "3     Movie C \n",
       "6     Movie F \n",
       "7     Movie G \n",
       "2     Movie B \n",
       "4     Movie D \n",
       "5     Movie E \n",
       "8     Movie H \n",
       "9     Movie I \n",
       "10    Movie J \n",
       "Name: Movie name, dtype: object"
      ]
     },
     "execution_count": 133,
     "metadata": {},
     "output_type": "execute_result"
    }
   ],
   "source": [
    "# test prediction ability based on description given by the movie Planet Hulk\n",
    "predicted_movie(\"Planet Hulk\")"
   ]
  },
  {
   "cell_type": "markdown",
   "id": "23434946",
   "metadata": {},
   "source": [
    "Code adapted from Krish Naik (Tutorial 5 - Content based recommendation system) made to suit question (YouTube)"
   ]
  }
 ],
 "metadata": {
  "kernelspec": {
   "display_name": "Python 3 (ipykernel)",
   "language": "python",
   "name": "python3"
  },
  "language_info": {
   "codemirror_mode": {
    "name": "ipython",
    "version": 3
   },
   "file_extension": ".py",
   "mimetype": "text/x-python",
   "name": "python",
   "nbconvert_exporter": "python",
   "pygments_lexer": "ipython3",
   "version": "3.11.3"
  }
 },
 "nbformat": 4,
 "nbformat_minor": 5
}
